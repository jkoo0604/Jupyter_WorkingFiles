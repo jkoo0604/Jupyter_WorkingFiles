{
 "cells": [
  {
   "cell_type": "code",
   "execution_count": 13,
   "metadata": {},
   "outputs": [],
   "source": [
    "import pymysql\n",
    "import pandas as pd\n",
    "import numpy as np"
   ]
  },
  {
   "cell_type": "code",
   "execution_count": 16,
   "metadata": {},
   "outputs": [],
   "source": [
    "def calculate(input):\n",
    "    #input = {'ref_id': [], 'categories': []}\n",
    "    results = {'ref_id': [], 'cat_id': [], 'results': []} \n",
    "    output_results = {'ref_id': [], 'cat_id': [], 'results': []} \n",
    "    for i in input['ref_id']:\n",
    "        results['ref_id'].append(i)\n",
    "        output_results['ref_id'].append(i)\n",
    "    for cat_id in input['categories']:\n",
    "        results['cat_id'].append(cat_id)\n",
    "        output_results['cat_id'].append(cat_id)\n",
    "        \n",
    "        conn = pymysql.connect(host='localhost', user='root', password='root', db='partsio-schema', charset='utf8mb4')\n",
    "\n",
    "        components = pd.read_sql_query(\"select * from components where category=%(cat_id)s;\", conn, params={'cat_id': cat_id})\n",
    "        cat_def = pd.read_sql_query(\"select * from cat_def where category=%(cat_id)s;\", conn, params={'cat_id': cat_id})\n",
    "        test_type = pd.read_sql_query(\"select * from test_type where cat_id=%(cat_id)s;\", conn, params={'cat_id': cat_id})\n",
    "        score_ref = pd.read_sql_query(\"select * from score_ref order by difference;\", conn)\n",
    "        col_name_ref = pd.read_sql_query(\"select * from col_ref\", conn)\n",
    "        conn.close()\n",
    "\n",
    "        if components.shape[0] == 0:\n",
    "            return {'result_status': 'Failure', 'message': 'No component found'}\n",
    "        elif components.shape[0] == 1:\n",
    "            components = components.rename(columns=dict(zip(col_name_ref['col_name'], col_name_ref['final_name'])))\n",
    "            output = components[['Category','Manufacturer','MPN','Status','Rank']].copy()\n",
    "            results['results'].append(components.to_json(orient='records'))\n",
    "            output_results['results'].append(output.to_json(orient='records'))\n",
    "            return {'result_status': 'No Ranking', 'results_data': results, 'output_data': output_results}\n",
    "\n",
    "        pf_test_cols = test_type.loc[test_type['test_type'] == 'P/F','param_name'].tolist()\n",
    "        pf_test_cols.insert(0,'mpn')\n",
    "\n",
    "        pf_test = pd.DataFrame(columns=pf_test_cols)\n",
    "        pf_test['mpn'] = components.loc[:,'mpn'].copy()\n",
    "\n",
    "        if 'package_size' in pf_test:\n",
    "            pf_test['package_size'] = components['package_size'] == cat_def.loc[0,'package_size']\n",
    "        if 'polarity' in pf_test:\n",
    "            pf_test['polarity'] = components['polarity'] == cat_def.loc[0,'polarity']\n",
    "        if 'v_esd_air' in pf_test:\n",
    "            pf_test['v_esd_air'] = components['v_esd_air'] >= cat_def.loc[0,'v_esd_air']\n",
    "        if 'v_esd_contact' in pf_test:\n",
    "            pf_test['v_esd_contact'] = components['v_esd_contact'] >= cat_def.loc[0,'v_esd_contact']\n",
    "        if 'v_br_v_trig_min' in pf_test:\n",
    "            pf_test['v_br_v_trig_min'] = components['v_br_v_trig_min'] >= cat_def.loc[0,'v_br_v_trig_min']\n",
    "        if 'i_holding_min' in pf_test:\n",
    "            i_holding_test = (components['design_topology'] == 'SCR') | (components['design_topology'] == 'Deep Snapback') | ((pd.notnull(components['v_holding_min'])) & (components['v_holding_min'] < components['v_rwm_max'])) | (components[['tlp_clamp_voltage_4a_reverse','tlp_clamp_voltage_8a_reverse','tlp_clamp_voltage_16a_reverse','tlp_clamp_voltage_30a_reverse']].min(axis=1) < components['v_rwm_max'])\n",
    "            i_holding_final = components['i_holding_min'] >= cat_def.loc[0,'i_holding_min']\n",
    "            pf_test.loc[i_holding_test == True, 'i_holding_min'] = i_holding_final\n",
    "            pf_test.loc[i_holding_test == False, 'i_holding_min'] = 'N/A'\n",
    "        if 'c_j_max' in pf_test:\n",
    "            pf_test['c_j_max'] = components['c_j_max'] <= cat_def.loc[0,'c_j_max']\n",
    "        if 'c_j_delta_max' in pf_test:\n",
    "            cj_delta_notnull = pd.notnull(components['c_j_delta_max'])\n",
    "            cj_delta_test = components['c_j_delta_max'] <= int(cat_def.loc[0,'c_j_delta_max'])\n",
    "            pf_test.loc[cj_delta_notnull == True, 'c_j_delta_max'] = cj_delta_test\n",
    "            pf_test.loc[cj_delta_notnull == False, 'c_j_delta_max'] = 'No Data'\n",
    "        if 'l_io_max' in pf_test:\n",
    "            l_io_max_notnull = pd.notnull(components['l_io_max'])\n",
    "            pf_test.loc[l_io_max_notnull == True, 'l_io_max'] = components['l_io_max'] <= cat_def.loc[0,'l_io_max']\n",
    "            pf_test.loc[l_io_max_notnull == False, 'l_io_max'] = 'No Data'    \n",
    "        if 'i_leakage_max' in pf_test:\n",
    "            pf_test['i_leakage_max'] = components['i_leakage_max'] <= cat_def.loc[0,'i_leakage_max']    \n",
    "        pf_test['status'] = pf_test[list(pf_test.columns)].apply(lambda x: 'Fail' if sum(x == False) > 0 else 'Pass', axis=1)\n",
    "\n",
    "        score_test_cols = test_type.loc[test_type['test_type'] == 'Score','param_name'].tolist()\n",
    "        score_test_cols.insert(0,'mpn')\n",
    "        score_test_cols.append('status')\n",
    "        score_test_cols.append('score')\n",
    "\n",
    "        score_test = pd.DataFrame(columns=score_test_cols)\n",
    "        score_test['mpn'] = components.loc[:,'mpn'].copy()\n",
    "        score_test['status'] = pf_test.loc[:,'status'].copy()\n",
    "\n",
    "        min = 10000\n",
    "        max = -10000\n",
    "        vbr_max = components['v_br_v_trig_max'].copy()\n",
    "        vbr_min = components['v_br_v_trig_min'].copy()\n",
    "        for i, v in vbr_max.items():\n",
    "            if score_test.loc[i,'status'] == 'Fail':\n",
    "                score_test.loc[i,'v_br_v_trig_max'] = np.NaN\n",
    "            elif pd.isnull(v) & pd.isnull(vbr_min[i]):\n",
    "                score_test.loc[i,'status'] = 'Fail'\n",
    "                score_test.loc[i,'v_br_v_trig_max'] = np.NaN\n",
    "            elif pd.notnull(v):\n",
    "                score_test.loc[i,'v_br_v_trig_max'] = vbr_max[i]\n",
    "            else:\n",
    "                score_test.loc[i,'v_br_v_trig_max'] = vbr_min[i] * 2\n",
    "\n",
    "        max_cols = ['mhz_824_890_2nd_harmonics_20dbm_level','mhz_824_890_3rd_harmonics_20dbm_level','ghz_24_2484_2nd_harmonics_20dbm_level','ghz_24_2484_3rd_harmonics_20dbm_level','ghz_5_5825_2nd_harmonics_20dbm_level','ghz_5_5825_3rd_harmonics_20dbm_level']\n",
    "        for column in score_test:\n",
    "            if (column == 'mpn') | (column == 'status') | (column == 'score'):\n",
    "                continue\n",
    "            else:\n",
    "                col_status = score_test['status'].copy()\n",
    "                col_null = pd.notnull(components[column])\n",
    "                col_component = components[column].copy()\n",
    "                if column != 'v_br_v_trig_max':           \n",
    "                    col_component.loc[col_status == 'Fail'] = np.NaN\n",
    "                    score_test.loc[col_null == True, column] = col_component\n",
    "                    score_test.loc[col_null == False, column] = np.NaN\n",
    "                    score_test[column] = col_component.copy()\n",
    "                min = score_test[column].min()\n",
    "                max = score_test[column].max()\n",
    "                max_score = test_type.loc[test_type['param_name'] == column,'max_score'].values[0]\n",
    "                col_ref_num = test_type.loc[test_type['param_name'] == column,'score_ref_col'].values[0]\n",
    "                col_ref = score_ref['ratio'+str(col_ref_num)].copy()\n",
    "                diff = score_ref['difference'].tolist()\n",
    "                if column in max_cols:\n",
    "                    calc_col = ((score_test[column] - max) * -1) / max\n",
    "                else:\n",
    "                    calc_col = (score_test[column] - min) / min\n",
    "\n",
    "                for i, v in calc_col.items():\n",
    "                    if pd.isnull(v):\n",
    "                        continue\n",
    "                    else:\n",
    "                        score_row = pd.Index(diff).get_loc(v, method='pad')\n",
    "                        score_test.loc[i,column] =  max_score * col_ref[score_row]\n",
    "        score_test['score'] = score_test.apply(lambda x: pd.to_numeric(x, errors='coerce')).sum(axis=1)\n",
    "        score_test['rank'] = score_test.score[score_test['score']>0].rank(ascending=False, method='dense')\n",
    "\n",
    "        components['status'] = score_test['status'].copy()\n",
    "        components['score'] = score_test['score'].copy()\n",
    "        components['rank'] = score_test['rank'].copy()\n",
    "\n",
    "        sorted_components = components.sort_values('rank')\n",
    "        sorted_components = sorted_components.dropna(axis=1, how='all')\n",
    "        sorted_components = sorted_components.rename(columns=dict(zip(col_name_ref['col_name'], col_name_ref['final_name'])))\n",
    "\n",
    "        output = sorted_components[['Category','Manufacturer','MPN','Status','Rank']].copy()\n",
    "\n",
    "        results['results'].append(sorted_components.to_json(orient='records'))\n",
    "        output_results['results'].append(output.to_json(orient='records'))\n",
    "        \n",
    "    return {'result_status': 'Success', 'results_data': results, 'output_data': output_results}\n"
   ]
  },
  {
   "cell_type": "code",
   "execution_count": 17,
   "metadata": {},
   "outputs": [
    {
     "data": {
      "text/plain": [
       "{'result_status': 'Success',\n",
       " 'results_data': {'ref_id': ['sample1', 'sample2'],\n",
       "  'cat_id': [3, 14],\n",
       "  'results': ['[{\"id\":43,\"Category\":3,\"Package Size\":\"0201\",\"Application\":\"RF\",\"Manufacturer\":\"Nexperia\",\"MPN\":\"PESD3V3Z1BSF\",\"Config\":null,\"Design Topology\":\"SCR\",\"Polarity\":\"Bi-Directional\",\"Channel Number\":1,\"Pins Count\":2,\"Supplier PKG type\":\"DSN0603-2\",\"JEDEC Standard PKG Type\":\"SOD962\",\"Peak Pulse Power (W)\":50.0,\"V-ESD (Air) (KV)\":20.0,\"V-ESD (Contact) (KV)\":20.0,\"V - rwm Min (V)\":null,\"V - rwm Max (V)\":4.0,\"V-br (V-Trig) - Min (V)\":6.9,\"V-br (V-Trig) - Type (V)\":8.9,\"V-br (V-Trig) - Max (V)\":9.4,\"V - Holding Min (V)\":2.1,\"I - Holding Min (mA)\":13.0,\"R-Dyn (Forward) (Ohm)\":0.19,\"R-Dyn (Reverse) (Ohm)\":0.19,\"C-J Max (pF)\":0.34,\"C-J Delta Max (%)\":null,\"L-io Max (nH)\":0.25,\"Turn On Time Max (ns)\":null,\"Ipp (8\\\\/20u) (A)\":9.5,\"I - Leakage max (uA)\":0.05,\"Peak @8KV Contact (Reverse)\":58.3,\"Peak @8KV Contact (Forward)\":56.6,\"TLP Clamp Voltage @4A (Reverse)\":3.6,\"TLP Clamp Voltage @8A (Reverse)\":4.5,\"TLP Clamp Voltage @16A (Reverse)\":6.1,\"TLP Clamp Voltage @30A (Reverse)\":10.7,\"TLP Clamp Voltage @4A (Forward)\":3.5,\"TLP Clamp Voltage @8A (Forward)\":4.0,\"TLP Clamp Voltage @16A (Forward)\":5.8,\"TLP Clamp Voltage @30A (Forward)\":10.2,\"Insertion Loss @ 1GHz (dB)\":0.06,\"Insertion Loss @ 2.5GHz (dB)\":0.21,\"Insertion Loss @ 5GHz (dB)\":0.51,\"(824MHz - 890MHz) 2nd Harmonics @ 20dBm level\":51.0,\"(824MHz - 890MHz) 3rd Harmonics @ 20dBm level\":47.0,\"(2.4GHz - 2.484GHz) 2nd Harmonics @ 20dBm level\":52.0,\"(2.4GHz - 2.484GHz) 3rd Harmonics @ 20dBm level\":45.0,\"(5GHz - 5.825GHz) 2nd Harmonics @ 20dBm level\":null,\"(5GHz - 5.825GHz) 3rd Harmonics @ 20dBm level\":null,\"Clamp Voltage @Test Condition1\":null,\"Test Condition 1\":null,\"Clamp Voltage @Test Condition2\":null,\"Test Condition 2\":null,\"V-Clamp @8u\\\\/20u Ipp (V)\":null,\"MP (MM\\\\/YY)\":\"MP\",\"ES (MM\\\\/YY)\":null,\"Green\":1,\"Halogen Free\":1,\"Status\":\"Pass\",\"Score\":95.2,\"Rank\":1.0},{\"id\":82,\"Category\":3,\"Package Size\":\"0201\",\"Application\":\"RF\",\"Manufacturer\":\"Semtech\",\"MPN\":\"RClamp5031ZA\",\"Config\":null,\"Design Topology\":\"SCR\",\"Polarity\":\"Bi-Directional\",\"Channel Number\":1,\"Pins Count\":2,\"Supplier PKG type\":\"SLP0603P2X3F\",\"JEDEC Standard PKG Type\":null,\"Peak Pulse Power (W)\":null,\"V-ESD (Air) (KV)\":24.0,\"V-ESD (Contact) (KV)\":17.0,\"V - rwm Min (V)\":null,\"V - rwm Max (V)\":5.0,\"V-br (V-Trig) - Min (V)\":6.5,\"V-br (V-Trig) - Type (V)\":8.5,\"V-br (V-Trig) - Max (V)\":10.5,\"V - Holding Min (V)\":3.5,\"I - Holding Min (mA)\":160.0,\"R-Dyn (Forward) (Ohm)\":0.17,\"R-Dyn (Reverse) (Ohm)\":0.17,\"C-J Max (pF)\":0.45,\"C-J Delta Max (%)\":7.0,\"L-io Max (nH)\":0.5,\"Turn On Time Max (ns)\":null,\"Ipp (8\\\\/20u) (A)\":4.0,\"I - Leakage max (uA)\":0.05,\"Peak @8KV Contact (Reverse)\":61.0,\"Peak @8KV Contact (Forward)\":61.0,\"TLP Clamp Voltage @4A (Reverse)\":5.0,\"TLP Clamp Voltage @8A (Reverse)\":5.8,\"TLP Clamp Voltage @16A (Reverse)\":7.0,\"TLP Clamp Voltage @30A (Reverse)\":11.5,\"TLP Clamp Voltage @4A (Forward)\":5.0,\"TLP Clamp Voltage @8A (Forward)\":5.8,\"TLP Clamp Voltage @16A (Forward)\":7.0,\"TLP Clamp Voltage @30A (Forward)\":11.5,\"Insertion Loss @ 1GHz (dB)\":0.09,\"Insertion Loss @ 2.5GHz (dB)\":0.26,\"Insertion Loss @ 5GHz (dB)\":0.45,\"(824MHz - 890MHz) 2nd Harmonics @ 20dBm level\":79.3,\"(824MHz - 890MHz) 3rd Harmonics @ 20dBm level\":57.34,\"(2.4GHz - 2.484GHz) 2nd Harmonics @ 20dBm level\":79.3,\"(2.4GHz - 2.484GHz) 3rd Harmonics @ 20dBm level\":67.6,\"(5GHz - 5.825GHz) 2nd Harmonics @ 20dBm level\":null,\"(5GHz - 5.825GHz) 3rd Harmonics @ 20dBm level\":null,\"Clamp Voltage @Test Condition1\":null,\"Test Condition 1\":null,\"Clamp Voltage @Test Condition2\":null,\"Test Condition 2\":null,\"V-Clamp @8u\\\\/20u Ipp (V)\":13.0,\"MP (MM\\\\/YY)\":\"MP\",\"ES (MM\\\\/YY)\":null,\"Green\":1,\"Halogen Free\":1,\"Status\":\"Pass\",\"Score\":85.95,\"Rank\":2.0},{\"id\":44,\"Category\":3,\"Package Size\":\"0201\",\"Application\":\"RF\",\"Manufacturer\":\"Nexperia\",\"MPN\":\"PESD7V0C1BSF\",\"Config\":null,\"Design Topology\":\"SCR\",\"Polarity\":\"Bi-Directional\",\"Channel Number\":1,\"Pins Count\":2,\"Supplier PKG type\":\"DSN0603-2\",\"JEDEC Standard PKG Type\":\"SOD962\",\"Peak Pulse Power (W)\":50.0,\"V-ESD (Air) (KV)\":20.0,\"V-ESD (Contact) (KV)\":20.0,\"V - rwm Min (V)\":null,\"V - rwm Max (V)\":7.0,\"V-br (V-Trig) - Min (V)\":7.5,\"V-br (V-Trig) - Type (V)\":12.5,\"V-br (V-Trig) - Max (V)\":13.0,\"V - Holding Min (V)\":2.1,\"I - Holding Min (mA)\":13.0,\"R-Dyn (Forward) (Ohm)\":0.23,\"R-Dyn (Reverse) (Ohm)\":0.23,\"C-J Max (pF)\":0.25,\"C-J Delta Max (%)\":null,\"L-io Max (nH)\":0.25,\"Turn On Time Max (ns)\":null,\"Ipp (8\\\\/20u) (A)\":9.0,\"I - Leakage max (uA)\":0.05,\"Peak @8KV Contact (Reverse)\":82.4,\"Peak @8KV Contact (Forward)\":83.3,\"TLP Clamp Voltage @4A (Reverse)\":3.9,\"TLP Clamp Voltage @8A (Reverse)\":4.85,\"TLP Clamp Voltage @16A (Reverse)\":6.3,\"TLP Clamp Voltage @30A (Reverse)\":10.6,\"TLP Clamp Voltage @4A (Forward)\":3.5,\"TLP Clamp Voltage @8A (Forward)\":4.3,\"TLP Clamp Voltage @16A (Forward)\":5.9,\"TLP Clamp Voltage @30A (Forward)\":10.5,\"Insertion Loss @ 1GHz (dB)\":0.2,\"Insertion Loss @ 2.5GHz (dB)\":0.34,\"Insertion Loss @ 5GHz (dB)\":0.43,\"(824MHz - 890MHz) 2nd Harmonics @ 20dBm level\":null,\"(824MHz - 890MHz) 3rd Harmonics @ 20dBm level\":null,\"(2.4GHz - 2.484GHz) 2nd Harmonics @ 20dBm level\":null,\"(2.4GHz - 2.484GHz) 3rd Harmonics @ 20dBm level\":null,\"(5GHz - 5.825GHz) 2nd Harmonics @ 20dBm level\":null,\"(5GHz - 5.825GHz) 3rd Harmonics @ 20dBm level\":null,\"Clamp Voltage @Test Condition1\":null,\"Test Condition 1\":null,\"Clamp Voltage @Test Condition2\":null,\"Test Condition 2\":null,\"V-Clamp @8u\\\\/20u Ipp (V)\":null,\"MP (MM\\\\/YY)\":\"MP\",\"ES (MM\\\\/YY)\":null,\"Green\":1,\"Halogen Free\":1,\"Status\":\"Pass\",\"Score\":75.5,\"Rank\":3.0},{\"id\":45,\"Category\":3,\"Package Size\":\"0201\",\"Application\":\"RF\",\"Manufacturer\":\"Nexperia\",\"MPN\":\"PESD5V0C1BSF\",\"Config\":null,\"Design Topology\":\"SCR\",\"Polarity\":\"Bi-Directional\",\"Channel Number\":1,\"Pins Count\":2,\"Supplier PKG type\":\"DSN0603-2\",\"JEDEC Standard PKG Type\":\"SOD962\",\"Peak Pulse Power (W)\":50.0,\"V-ESD (Air) (KV)\":20.0,\"V-ESD (Contact) (KV)\":20.0,\"V - rwm Min (V)\":null,\"V - rwm Max (V)\":5.0,\"V-br (V-Trig) - Min (V)\":6.0,\"V-br (V-Trig) - Type (V)\":12.5,\"V-br (V-Trig) - Max (V)\":13.0,\"V - Holding Min (V)\":2.1,\"I - Holding Min (mA)\":13.0,\"R-Dyn (Forward) (Ohm)\":0.23,\"R-Dyn (Reverse) (Ohm)\":0.23,\"C-J Max (pF)\":0.25,\"C-J Delta Max (%)\":null,\"L-io Max (nH)\":0.25,\"Turn On Time Max (ns)\":null,\"Ipp (8\\\\/20u) (A)\":9.0,\"I - Leakage max (uA)\":0.05,\"Peak @8KV Contact (Reverse)\":82.4,\"Peak @8KV Contact (Forward)\":83.3,\"TLP Clamp Voltage @4A (Reverse)\":3.9,\"TLP Clamp Voltage @8A (Reverse)\":4.85,\"TLP Clamp Voltage @16A (Reverse)\":6.3,\"TLP Clamp Voltage @30A (Reverse)\":10.6,\"TLP Clamp Voltage @4A (Forward)\":3.5,\"TLP Clamp Voltage @8A (Forward)\":4.3,\"TLP Clamp Voltage @16A (Forward)\":5.9,\"TLP Clamp Voltage @30A (Forward)\":10.5,\"Insertion Loss @ 1GHz (dB)\":0.2,\"Insertion Loss @ 2.5GHz (dB)\":0.34,\"Insertion Loss @ 5GHz (dB)\":0.43,\"(824MHz - 890MHz) 2nd Harmonics @ 20dBm level\":null,\"(824MHz - 890MHz) 3rd Harmonics @ 20dBm level\":null,\"(2.4GHz - 2.484GHz) 2nd Harmonics @ 20dBm level\":null,\"(2.4GHz - 2.484GHz) 3rd Harmonics @ 20dBm level\":null,\"(5GHz - 5.825GHz) 2nd Harmonics @ 20dBm level\":null,\"(5GHz - 5.825GHz) 3rd Harmonics @ 20dBm level\":null,\"Clamp Voltage @Test Condition1\":null,\"Test Condition 1\":null,\"Clamp Voltage @Test Condition2\":null,\"Test Condition 2\":null,\"V-Clamp @8u\\\\/20u Ipp (V)\":null,\"MP (MM\\\\/YY)\":\"MP\",\"ES (MM\\\\/YY)\":null,\"Green\":1,\"Halogen Free\":1,\"Status\":\"Pass\",\"Score\":75.5,\"Rank\":3.0},{\"id\":30,\"Category\":3,\"Package Size\":\"0201\",\"Application\":\"RF\",\"Manufacturer\":\"Infineon\",\"MPN\":\"ESD134-B1-W0201\",\"Config\":null,\"Design Topology\":\"SCR (Deep Snapback)\",\"Polarity\":\"Bi-Directional\",\"Channel Number\":1,\"Pins Count\":2,\"Supplier PKG type\":\"WLL-2-3\",\"JEDEC Standard PKG Type\":null,\"Peak Pulse Power (W)\":56.0,\"V-ESD (Air) (KV)\":28.0,\"V-ESD (Contact) (KV)\":23.0,\"V - rwm Min (V)\":-2.1,\"V - rwm Max (V)\":2.1,\"V-br (V-Trig) - Min (V)\":8.0,\"V-br (V-Trig) - Type (V)\":9.5,\"V-br (V-Trig) - Max (V)\":11.1,\"V - Holding Min (V)\":1.8,\"I - Holding Min (mA)\":20.0,\"R-Dyn (Forward) (Ohm)\":0.28,\"R-Dyn (Reverse) (Ohm)\":0.28,\"C-J Max (pF)\":0.35,\"C-J Delta Max (%)\":null,\"L-io Max (nH)\":null,\"Turn On Time Max (ns)\":null,\"Ipp (8\\\\/20u) (A)\":7.5,\"I - Leakage max (uA)\":0.02,\"Peak @8KV Contact (Reverse)\":139.0,\"Peak @8KV Contact (Forward)\":141.0,\"TLP Clamp Voltage @4A (Reverse)\":4.5,\"TLP Clamp Voltage @8A (Reverse)\":5.8,\"TLP Clamp Voltage @16A (Reverse)\":7.7,\"TLP Clamp Voltage @30A (Reverse)\":12.4,\"TLP Clamp Voltage @4A (Forward)\":4.5,\"TLP Clamp Voltage @8A (Forward)\":5.8,\"TLP Clamp Voltage @16A (Forward)\":7.7,\"TLP Clamp Voltage @30A (Forward)\":12.4,\"Insertion Loss @ 1GHz (dB)\":0.04,\"Insertion Loss @ 2.5GHz (dB)\":0.12,\"Insertion Loss @ 5GHz (dB)\":0.28,\"(824MHz - 890MHz) 2nd Harmonics @ 20dBm level\":null,\"(824MHz - 890MHz) 3rd Harmonics @ 20dBm level\":null,\"(2.4GHz - 2.484GHz) 2nd Harmonics @ 20dBm level\":null,\"(2.4GHz - 2.484GHz) 3rd Harmonics @ 20dBm level\":null,\"(5GHz - 5.825GHz) 2nd Harmonics @ 20dBm level\":null,\"(5GHz - 5.825GHz) 3rd Harmonics @ 20dBm level\":null,\"Clamp Voltage @Test Condition1\":4.5,\"Test Condition 1\":\"IPP=4A\",\"Clamp Voltage @Test Condition2\":7.5,\"Test Condition 2\":\"IPP=7.5A\",\"V-Clamp @8u\\\\/20u Ipp (V)\":null,\"MP (MM\\\\/YY)\":\"MP\",\"ES (MM\\\\/YY)\":\"Now\",\"Green\":1,\"Halogen Free\":1,\"Status\":\"Pass\",\"Score\":56.45,\"Rank\":4.0},{\"id\":115,\"Category\":3,\"Package Size\":\"0201\",\"Application\":\"RF\",\"Manufacturer\":\"Toshiba\",\"MPN\":\"DF2B6M5SL\",\"Config\":\"TVS Diode\",\"Design Topology\":\"Shallow Snapback\",\"Polarity\":\"Bi-Directional\",\"Channel Number\":1,\"Pins Count\":2,\"Supplier PKG type\":\"SL2\",\"JEDEC Standard PKG Type\":\"SOD-962\",\"Peak Pulse Power (W)\":30.0,\"V-ESD (Air) (KV)\":20.0,\"V-ESD (Contact) (KV)\":20.0,\"V - rwm Min (V)\":null,\"V - rwm Max (V)\":5.0,\"V-br (V-Trig) - Min (V)\":5.5,\"V-br (V-Trig) - Type (V)\":null,\"V-br (V-Trig) - Max (V)\":11.0,\"V - Holding Min (V)\":null,\"I - Holding Min (mA)\":null,\"R-Dyn (Forward) (Ohm)\":0.5,\"R-Dyn (Reverse) (Ohm)\":0.5,\"C-J Max (pF)\":0.45,\"C-J Delta Max (%)\":null,\"L-io Max (nH)\":null,\"Turn On Time Max (ns)\":0.95,\"Ipp (8\\\\/20u) (A)\":2.5,\"I - Leakage max (uA)\":0.1,\"Peak @8KV Contact (Reverse)\":70.0,\"Peak @8KV Contact (Forward)\":64.0,\"TLP Clamp Voltage @4A (Reverse)\":11.0,\"TLP Clamp Voltage @8A (Reverse)\":13.0,\"TLP Clamp Voltage @16A (Reverse)\":18.5,\"TLP Clamp Voltage @30A (Reverse)\":26.5,\"TLP Clamp Voltage @4A (Forward)\":11.0,\"TLP Clamp Voltage @8A (Forward)\":13.0,\"TLP Clamp Voltage @16A (Forward)\":18.5,\"TLP Clamp Voltage @30A (Forward)\":26.5,\"Insertion Loss @ 1GHz (dB)\":0.05,\"Insertion Loss @ 2.5GHz (dB)\":0.11,\"Insertion Loss @ 5GHz (dB)\":0.23,\"(824MHz - 890MHz) 2nd Harmonics @ 20dBm level\":null,\"(824MHz - 890MHz) 3rd Harmonics @ 20dBm level\":null,\"(2.4GHz - 2.484GHz) 2nd Harmonics @ 20dBm level\":null,\"(2.4GHz - 2.484GHz) 3rd Harmonics @ 20dBm level\":null,\"(5GHz - 5.825GHz) 2nd Harmonics @ 20dBm level\":null,\"(5GHz - 5.825GHz) 3rd Harmonics @ 20dBm level\":null,\"Clamp Voltage @Test Condition1\":null,\"Test Condition 1\":null,\"Clamp Voltage @Test Condition2\":null,\"Test Condition 2\":null,\"V-Clamp @8u\\\\/20u Ipp (V)\":11.0,\"MP (MM\\\\/YY)\":\"MP\",\"ES (MM\\\\/YY)\":null,\"Green\":1,\"Halogen Free\":1,\"Status\":\"Pass\",\"Score\":32.75,\"Rank\":5.0},{\"id\":112,\"Category\":3,\"Package Size\":\"0201\",\"Application\":\"RF\",\"Manufacturer\":\"Toshiba\",\"MPN\":\"DF2B6M4SL\",\"Config\":\"TVS Diode\",\"Design Topology\":\"Shallow Snapback\",\"Polarity\":\"Bi-Directional\",\"Channel Number\":1,\"Pins Count\":2,\"Supplier PKG type\":\"SL2\",\"JEDEC Standard PKG Type\":\"SOD-962\",\"Peak Pulse Power (W)\":30.0,\"V-ESD (Air) (KV)\":20.0,\"V-ESD (Contact) (KV)\":20.0,\"V - rwm Min (V)\":null,\"V - rwm Max (V)\":5.5,\"V-br (V-Trig) - Min (V)\":5.6,\"V-br (V-Trig) - Type (V)\":6.2,\"V-br (V-Trig) - Max (V)\":8.0,\"V - Holding Min (V)\":null,\"I - Holding Min (mA)\":null,\"R-Dyn (Forward) (Ohm)\":0.5,\"R-Dyn (Reverse) (Ohm)\":0.5,\"C-J Max (pF)\":0.3,\"C-J Delta Max (%)\":null,\"L-io Max (nH)\":null,\"Turn On Time Max (ns)\":1.7,\"Ipp (8\\\\/20u) (A)\":2.0,\"I - Leakage max (uA)\":0.1,\"Peak @8KV Contact (Reverse)\":104.0,\"Peak @8KV Contact (Forward)\":100.0,\"TLP Clamp Voltage @4A (Reverse)\":11.0,\"TLP Clamp Voltage @8A (Reverse)\":13.0,\"TLP Clamp Voltage @16A (Reverse)\":18.0,\"TLP Clamp Voltage @30A (Reverse)\":25.0,\"TLP Clamp Voltage @4A (Forward)\":11.0,\"TLP Clamp Voltage @8A (Forward)\":13.0,\"TLP Clamp Voltage @16A (Forward)\":18.0,\"TLP Clamp Voltage @30A (Forward)\":25.0,\"Insertion Loss @ 1GHz (dB)\":0.05,\"Insertion Loss @ 2.5GHz (dB)\":0.11,\"Insertion Loss @ 5GHz (dB)\":0.23,\"(824MHz - 890MHz) 2nd Harmonics @ 20dBm level\":68.0,\"(824MHz - 890MHz) 3rd Harmonics @ 20dBm level\":48.0,\"(2.4GHz - 2.484GHz) 2nd Harmonics @ 20dBm level\":63.0,\"(2.4GHz - 2.484GHz) 3rd Harmonics @ 20dBm level\":47.0,\"(5GHz - 5.825GHz) 2nd Harmonics @ 20dBm level\":63.0,\"(5GHz - 5.825GHz) 3rd Harmonics @ 20dBm level\":43.0,\"Clamp Voltage @Test Condition1\":null,\"Test Condition 1\":null,\"Clamp Voltage @Test Condition2\":null,\"Test Condition 2\":null,\"V-Clamp @8u\\\\/20u Ipp (V)\":10.0,\"MP (MM\\\\/YY)\":\"MP\",\"ES (MM\\\\/YY)\":null,\"Green\":1,\"Halogen Free\":1,\"Status\":\"Pass\",\"Score\":30.45,\"Rank\":6.0},{\"id\":23,\"Category\":3,\"Package Size\":\"0201\",\"Application\":\"RF\",\"Manufacturer\":\"Infineon\",\"MPN\":\"ESD131-B1-W0201\",\"Config\":null,\"Design Topology\":\"SCR (Deep Snapback)\",\"Polarity\":\"Bi-Directional\",\"Channel Number\":1,\"Pins Count\":2,\"Supplier PKG type\":\"WLL-2-3\",\"JEDEC Standard PKG Type\":null,\"Peak Pulse Power (W)\":26.0,\"V-ESD (Air) (KV)\":20.0,\"V-ESD (Contact) (KV)\":20.0,\"V - rwm Min (V)\":-5.5,\"V - rwm Max (V)\":5.5,\"V-br (V-Trig) - Min (V)\":6.0,\"V-br (V-Trig) - Type (V)\":8.0,\"V-br (V-Trig) - Max (V)\":10.5,\"V - Holding Min (V)\":1.9,\"I - Holding Min (mA)\":25.0,\"R-Dyn (Forward) (Ohm)\":0.66,\"R-Dyn (Reverse) (Ohm)\":0.66,\"C-J Max (pF)\":0.35,\"C-J Delta Max (%)\":null,\"L-io Max (nH)\":null,\"Turn On Time Max (ns)\":null,\"Ipp (8\\\\/20u) (A)\":3.5,\"I - Leakage max (uA)\":0.1,\"Peak @8KV Contact (Reverse)\":118.0,\"Peak @8KV Contact (Forward)\":118.0,\"TLP Clamp Voltage @4A (Reverse)\":6.0,\"TLP Clamp Voltage @8A (Reverse)\":8.5,\"TLP Clamp Voltage @16A (Reverse)\":13.0,\"TLP Clamp Voltage @30A (Reverse)\":24.0,\"TLP Clamp Voltage @4A (Forward)\":6.0,\"TLP Clamp Voltage @8A (Forward)\":8.5,\"TLP Clamp Voltage @16A (Forward)\":13.0,\"TLP Clamp Voltage @30A (Forward)\":24.0,\"Insertion Loss @ 1GHz (dB)\":0.04,\"Insertion Loss @ 2.5GHz (dB)\":0.13,\"Insertion Loss @ 5GHz (dB)\":0.28,\"(824MHz - 890MHz) 2nd Harmonics @ 20dBm level\":-69.0,\"(824MHz - 890MHz) 3rd Harmonics @ 20dBm level\":-41.0,\"(2.4GHz - 2.484GHz) 2nd Harmonics @ 20dBm level\":-64.0,\"(2.4GHz - 2.484GHz) 3rd Harmonics @ 20dBm level\":-36.0,\"(5GHz - 5.825GHz) 2nd Harmonics @ 20dBm level\":null,\"(5GHz - 5.825GHz) 3rd Harmonics @ 20dBm level\":null,\"Clamp Voltage @Test Condition1\":3.0,\"Test Condition 1\":\"IPP=1A\",\"Clamp Voltage @Test Condition2\":5.5,\"Test Condition 2\":\"IPP=3A\",\"V-Clamp @8u\\\\/20u Ipp (V)\":null,\"MP (MM\\\\/YY)\":\"MP\",\"ES (MM\\\\/YY)\":\"Now\",\"Green\":1,\"Halogen Free\":1,\"Status\":\"Pass\",\"Score\":18.25,\"Rank\":7.0},{\"id\":113,\"Category\":3,\"Package Size\":\"0201\",\"Application\":\"RF\",\"Manufacturer\":\"Toshiba\",\"MPN\":\"DF2B6M4ASL\",\"Config\":\"TVS Diode\",\"Design Topology\":\"Shallow Snapback\",\"Polarity\":\"Bi-Directional\",\"Channel Number\":1,\"Pins Count\":2,\"Supplier PKG type\":\"SL2\",\"JEDEC Standard PKG Type\":\"SOD-962\",\"Peak Pulse Power (W)\":null,\"V-ESD (Air) (KV)\":20.0,\"V-ESD (Contact) (KV)\":18.0,\"V - rwm Min (V)\":null,\"V - rwm Max (V)\":5.5,\"V-br (V-Trig) - Min (V)\":5.6,\"V-br (V-Trig) - Type (V)\":6.2,\"V-br (V-Trig) - Max (V)\":8.0,\"V - Holding Min (V)\":null,\"I - Holding Min (mA)\":null,\"R-Dyn (Forward) (Ohm)\":0.9,\"R-Dyn (Reverse) (Ohm)\":0.9,\"C-J Max (pF)\":0.2,\"C-J Delta Max (%)\":null,\"L-io Max (nH)\":null,\"Turn On Time Max (ns)\":null,\"Ipp (8\\\\/20u) (A)\":2.0,\"I - Leakage max (uA)\":0.1,\"Peak @8KV Contact (Reverse)\":170.0,\"Peak @8KV Contact (Forward)\":160.0,\"TLP Clamp Voltage @4A (Reverse)\":12.5,\"TLP Clamp Voltage @8A (Reverse)\":15.3,\"TLP Clamp Voltage @16A (Reverse)\":21.1,\"TLP Clamp Voltage @30A (Reverse)\":38.2,\"TLP Clamp Voltage @4A (Forward)\":12.5,\"TLP Clamp Voltage @8A (Forward)\":15.3,\"TLP Clamp Voltage @16A (Forward)\":21.1,\"TLP Clamp Voltage @30A (Forward)\":38.2,\"Insertion Loss @ 1GHz (dB)\":0.07,\"Insertion Loss @ 2.5GHz (dB)\":0.1,\"Insertion Loss @ 5GHz (dB)\":0.19,\"(824MHz - 890MHz) 2nd Harmonics @ 20dBm level\":null,\"(824MHz - 890MHz) 3rd Harmonics @ 20dBm level\":null,\"(2.4GHz - 2.484GHz) 2nd Harmonics @ 20dBm level\":null,\"(2.4GHz - 2.484GHz) 3rd Harmonics @ 20dBm level\":null,\"(5GHz - 5.825GHz) 2nd Harmonics @ 20dBm level\":null,\"(5GHz - 5.825GHz) 3rd Harmonics @ 20dBm level\":null,\"Clamp Voltage @Test Condition1\":null,\"Test Condition 1\":null,\"Clamp Voltage @Test Condition2\":null,\"Test Condition 2\":null,\"V-Clamp @8u\\\\/20u Ipp (V)\":12.5,\"MP (MM\\\\/YY)\":\"No Data\",\"ES (MM\\\\/YY)\":\"12\\\\/18\",\"Green\":1,\"Halogen Free\":1,\"Status\":\"Pass\",\"Score\":11.75,\"Rank\":8.0},{\"id\":17,\"Category\":3,\"Package Size\":\"0201\",\"Application\":\"RF\",\"Manufacturer\":\"Infineon\",\"MPN\":\"ESD108-B1-CSP0201\",\"Config\":null,\"Design Topology\":\"BJT (Mild Snapback)\",\"Polarity\":\"Bi-Directional\",\"Channel Number\":1,\"Pins Count\":2,\"Supplier PKG type\":\"WLL-2-1\",\"JEDEC Standard PKG Type\":null,\"Peak Pulse Power (W)\":27.5,\"V-ESD (Air) (KV)\":25.0,\"V-ESD (Contact) (KV)\":25.0,\"V - rwm Min (V)\":-5.5,\"V - rwm Max (V)\":5.5,\"V-br (V-Trig) - Min (V)\":6.1,\"V-br (V-Trig) - Type (V)\":9.5,\"V-br (V-Trig) - Max (V)\":12.5,\"V - Holding Min (V)\":5.5,\"I - Holding Min (mA)\":0.5,\"R-Dyn (Forward) (Ohm)\":0.78,\"R-Dyn (Reverse) (Ohm)\":0.78,\"C-J Max (pF)\":0.38,\"C-J Delta Max (%)\":null,\"L-io Max (nH)\":null,\"Turn On Time Max (ns)\":null,\"Ipp (8\\\\/20u) (A)\":2.5,\"I - Leakage max (uA)\":0.02,\"Peak @8KV Contact (Reverse)\":137.0,\"Peak @8KV Contact (Forward)\":141.0,\"TLP Clamp Voltage @4A (Reverse)\":10.5,\"TLP Clamp Voltage @8A (Reverse)\":14.0,\"TLP Clamp Voltage @16A (Reverse)\":20.0,\"TLP Clamp Voltage @30A (Reverse)\":30.5,\"TLP Clamp Voltage @4A (Forward)\":10.5,\"TLP Clamp Voltage @8A (Forward)\":14.0,\"TLP Clamp Voltage @16A (Forward)\":20.0,\"TLP Clamp Voltage @30A (Forward)\":30.5,\"Insertion Loss @ 1GHz (dB)\":0.06,\"Insertion Loss @ 2.5GHz (dB)\":0.14,\"Insertion Loss @ 5GHz (dB)\":0.26,\"(824MHz - 890MHz) 2nd Harmonics @ 20dBm level\":-64.0,\"(824MHz - 890MHz) 3rd Harmonics @ 20dBm level\":-47.0,\"(2.4GHz - 2.484GHz) 2nd Harmonics @ 20dBm level\":-63.0,\"(2.4GHz - 2.484GHz) 3rd Harmonics @ 20dBm level\":-47.0,\"(5GHz - 5.825GHz) 2nd Harmonics @ 20dBm level\":null,\"(5GHz - 5.825GHz) 3rd Harmonics @ 20dBm level\":null,\"Clamp Voltage @Test Condition1\":8.5,\"Test Condition 1\":\"IPP=1A\",\"Clamp Voltage @Test Condition2\":11.0,\"Test Condition 2\":\"IPP=2.5A\",\"V-Clamp @8u\\\\/20u Ipp (V)\":null,\"MP (MM\\\\/YY)\":\"MP\",\"ES (MM\\\\/YY)\":\"Now\",\"Green\":1,\"Halogen Free\":1,\"Status\":\"Pass\",\"Score\":7.65,\"Rank\":9.0},{\"id\":141,\"Category\":3,\"Package Size\":\"0201\",\"Application\":\"RF\",\"Manufacturer\":\"WAYON\",\"MPN\":\"WE05DGCS-B\",\"Config\":null,\"Design Topology\":\"ZENER\",\"Polarity\":\"Bi-Directional\",\"Channel Number\":1,\"Pins Count\":2,\"Supplier PKG type\":\"Plastic\",\"JEDEC Standard PKG Type\":\"DFN0603-2L\",\"Peak Pulse Power (W)\":75.0,\"V-ESD (Air) (KV)\":20.0,\"V-ESD (Contact) (KV)\":15.0,\"V - rwm Min (V)\":null,\"V - rwm Max (V)\":5.0,\"V-br (V-Trig) - Min (V)\":6.2,\"V-br (V-Trig) - Type (V)\":null,\"V-br (V-Trig) - Max (V)\":11.0,\"V - Holding Min (V)\":null,\"I - Holding Min (mA)\":null,\"R-Dyn (Forward) (Ohm)\":1.5,\"R-Dyn (Reverse) (Ohm)\":1.5,\"C-J Max (pF)\":0.23,\"C-J Delta Max (%)\":0.05,\"L-io Max (nH)\":null,\"Turn On Time Max (ns)\":1.5,\"Ipp (8\\\\/20u) (A)\":3.0,\"I - Leakage max (uA)\":0.1,\"Peak @8KV Contact (Reverse)\":154.0,\"Peak @8KV Contact (Forward)\":152.0,\"TLP Clamp Voltage @4A (Reverse)\":16.0,\"TLP Clamp Voltage @8A (Reverse)\":22.0,\"TLP Clamp Voltage @16A (Reverse)\":36.0,\"TLP Clamp Voltage @30A (Reverse)\":65.0,\"TLP Clamp Voltage @4A (Forward)\":16.0,\"TLP Clamp Voltage @8A (Forward)\":22.0,\"TLP Clamp Voltage @16A (Forward)\":36.0,\"TLP Clamp Voltage @30A (Forward)\":65.0,\"Insertion Loss @ 1GHz (dB)\":null,\"Insertion Loss @ 2.5GHz (dB)\":null,\"Insertion Loss @ 5GHz (dB)\":null,\"(824MHz - 890MHz) 2nd Harmonics @ 20dBm level\":null,\"(824MHz - 890MHz) 3rd Harmonics @ 20dBm level\":null,\"(2.4GHz - 2.484GHz) 2nd Harmonics @ 20dBm level\":null,\"(2.4GHz - 2.484GHz) 3rd Harmonics @ 20dBm level\":null,\"(5GHz - 5.825GHz) 2nd Harmonics @ 20dBm level\":null,\"(5GHz - 5.825GHz) 3rd Harmonics @ 20dBm level\":null,\"Clamp Voltage @Test Condition1\":null,\"Test Condition 1\":null,\"Clamp Voltage @Test Condition2\":null,\"Test Condition 2\":null,\"V-Clamp @8u\\\\/20u Ipp (V)\":25.0,\"MP (MM\\\\/YY)\":\"MP\",\"ES (MM\\\\/YY)\":null,\"Green\":1,\"Halogen Free\":1,\"Status\":\"Pass\",\"Score\":5.5,\"Rank\":10.0},{\"id\":14,\"Category\":3,\"Package Size\":\"0201\",\"Application\":\"RF\",\"Manufacturer\":\"Infineon\",\"MPN\":\"ESD106-B1-W0201\",\"Config\":null,\"Design Topology\":\"BJT (Mild Snapback)\",\"Polarity\":\"Bi-Directional\",\"Channel Number\":1,\"Pins Count\":2,\"Supplier PKG type\":\"WLL-2-3\",\"JEDEC Standard PKG Type\":null,\"Peak Pulse Power (W)\":15.0,\"V-ESD (Air) (KV)\":14.0,\"V-ESD (Contact) (KV)\":12.0,\"V - rwm Min (V)\":-5.5,\"V - rwm Max (V)\":5.5,\"V-br (V-Trig) - Min (V)\":6.1,\"V-br (V-Trig) - Type (V)\":9.5,\"V-br (V-Trig) - Max (V)\":12.5,\"V - Holding Min (V)\":6.1,\"I - Holding Min (mA)\":1.0,\"R-Dyn (Forward) (Ohm)\":1.1,\"R-Dyn (Reverse) (Ohm)\":1.1,\"C-J Max (pF)\":0.25,\"C-J Delta Max (%)\":null,\"L-io Max (nH)\":null,\"Turn On Time Max (ns)\":null,\"Ipp (8\\\\/20u) (A)\":1.5,\"I - Leakage max (uA)\":0.02,\"Peak @8KV Contact (Reverse)\":86.0,\"Peak @8KV Contact (Forward)\":84.0,\"TLP Clamp Voltage @4A (Reverse)\":12.0,\"TLP Clamp Voltage @8A (Reverse)\":16.0,\"TLP Clamp Voltage @16A (Reverse)\":25.0,\"TLP Clamp Voltage @30A (Reverse)\":null,\"TLP Clamp Voltage @4A (Forward)\":12.0,\"TLP Clamp Voltage @8A (Forward)\":16.0,\"TLP Clamp Voltage @16A (Forward)\":25.0,\"TLP Clamp Voltage @30A (Forward)\":null,\"Insertion Loss @ 1GHz (dB)\":0.09,\"Insertion Loss @ 2.5GHz (dB)\":0.1,\"Insertion Loss @ 5GHz (dB)\":0.15,\"(824MHz - 890MHz) 2nd Harmonics @ 20dBm level\":-71.0,\"(824MHz - 890MHz) 3rd Harmonics @ 20dBm level\":-53.0,\"(2.4GHz - 2.484GHz) 2nd Harmonics @ 20dBm level\":-66.0,\"(2.4GHz - 2.484GHz) 3rd Harmonics @ 20dBm level\":-50.0,\"(5GHz - 5.825GHz) 2nd Harmonics @ 20dBm level\":null,\"(5GHz - 5.825GHz) 3rd Harmonics @ 20dBm level\":null,\"Clamp Voltage @Test Condition1\":8.5,\"Test Condition 1\":\"IPP=1A\",\"Clamp Voltage @Test Condition2\":10.0,\"Test Condition 2\":\"Ipp=1.5\",\"V-Clamp @8u\\\\/20u Ipp (V)\":null,\"MP (MM\\\\/YY)\":\"MP\",\"ES (MM\\\\/YY)\":\"Now\",\"Green\":1,\"Halogen Free\":1,\"Status\":\"Fail\",\"Score\":0.0,\"Rank\":null},{\"id\":64,\"Category\":3,\"Package Size\":\"0201\",\"Application\":\"RF\",\"Manufacturer\":\"OnSemi\",\"MPN\":\"ESD8011\",\"Config\":null,\"Design Topology\":\"Snapback\",\"Polarity\":\"Bi-Directional\",\"Channel Number\":1,\"Pins Count\":2,\"Supplier PKG type\":\"X3DFN\",\"JEDEC Standard PKG Type\":null,\"Peak Pulse Power (W)\":null,\"V-ESD (Air) (KV)\":20.0,\"V-ESD (Contact) (KV)\":20.0,\"V - rwm Min (V)\":null,\"V - rwm Max (V)\":5.5,\"V-br (V-Trig) - Min (V)\":6.5,\"V-br (V-Trig) - Type (V)\":7.3,\"V-br (V-Trig) - Max (V)\":8.5,\"V - Holding Min (V)\":2.05,\"I - Holding Min (mA)\":17.0,\"R-Dyn (Forward) (Ohm)\":1.0,\"R-Dyn (Reverse) (Ohm)\":1.0,\"C-J Max (pF)\":0.2,\"C-J Delta Max (%)\":null,\"L-io Max (nH)\":0.3,\"Turn On Time Max (ns)\":null,\"Ipp (8\\\\/20u) (A)\":3.6,\"I - Leakage max (uA)\":1.0,\"Peak @8KV Contact (Reverse)\":68.0,\"Peak @8KV Contact (Forward)\":70.0,\"TLP Clamp Voltage @4A (Reverse)\":7.2,\"TLP Clamp Voltage @8A (Reverse)\":11.0,\"TLP Clamp Voltage @16A (Reverse)\":19.0,\"TLP Clamp Voltage @30A (Reverse)\":null,\"TLP Clamp Voltage @4A (Forward)\":6.5,\"TLP Clamp Voltage @8A (Forward)\":11.0,\"TLP Clamp Voltage @16A (Forward)\":19.0,\"TLP Clamp Voltage @30A (Forward)\":null,\"Insertion Loss @ 1GHz (dB)\":0.047,\"Insertion Loss @ 2.5GHz (dB)\":0.087,\"Insertion Loss @ 5GHz (dB)\":0.17,\"(824MHz - 890MHz) 2nd Harmonics @ 20dBm level\":null,\"(824MHz - 890MHz) 3rd Harmonics @ 20dBm level\":null,\"(2.4GHz - 2.484GHz) 2nd Harmonics @ 20dBm level\":null,\"(2.4GHz - 2.484GHz) 3rd Harmonics @ 20dBm level\":null,\"(5GHz - 5.825GHz) 2nd Harmonics @ 20dBm level\":null,\"(5GHz - 5.825GHz) 3rd Harmonics @ 20dBm level\":null,\"Clamp Voltage @Test Condition1\":null,\"Test Condition 1\":null,\"Clamp Voltage @Test Condition2\":null,\"Test Condition 2\":null,\"V-Clamp @8u\\\\/20u Ipp (V)\":null,\"MP (MM\\\\/YY)\":\"MP\",\"ES (MM\\\\/YY)\":\"Now\",\"Green\":1,\"Halogen Free\":1,\"Status\":\"Fail\",\"Score\":0.0,\"Rank\":null},{\"id\":79,\"Category\":3,\"Package Size\":\"0201\",\"Application\":\"RF\",\"Manufacturer\":\"Semtech\",\"MPN\":\"RClamp3371ZC\",\"Config\":null,\"Design Topology\":\"SCR\",\"Polarity\":\"Bi-Directional\",\"Channel Number\":1,\"Pins Count\":2,\"Supplier PKG type\":\"SLP0603P2X3J\",\"JEDEC Standard PKG Type\":null,\"Peak Pulse Power (W)\":65.0,\"V-ESD (Air) (KV)\":17.0,\"V-ESD (Contact) (KV)\":10.0,\"V - rwm Min (V)\":null,\"V - rwm Max (V)\":3.3,\"V-br (V-Trig) - Min (V)\":5.5,\"V-br (V-Trig) - Type (V)\":8.0,\"V-br (V-Trig) - Max (V)\":10.0,\"V - Holding Min (V)\":2.1,\"I - Holding Min (mA)\":18.0,\"R-Dyn (Forward) (Ohm)\":0.14,\"R-Dyn (Reverse) (Ohm)\":0.14,\"C-J Max (pF)\":0.25,\"C-J Delta Max (%)\":16.5,\"L-io Max (nH)\":null,\"Turn On Time Max (ns)\":null,\"Ipp (8\\\\/20u) (A)\":9.0,\"I - Leakage max (uA)\":0.05,\"Peak @8KV Contact (Reverse)\":100.0,\"Peak @8KV Contact (Forward)\":100.0,\"TLP Clamp Voltage @4A (Reverse)\":3.0,\"TLP Clamp Voltage @8A (Reverse)\":3.7,\"TLP Clamp Voltage @16A (Reverse)\":4.6,\"TLP Clamp Voltage @30A (Reverse)\":null,\"TLP Clamp Voltage @4A (Forward)\":3.0,\"TLP Clamp Voltage @8A (Forward)\":3.7,\"TLP Clamp Voltage @16A (Forward)\":4.6,\"TLP Clamp Voltage @30A (Forward)\":null,\"Insertion Loss @ 1GHz (dB)\":0.05,\"Insertion Loss @ 2.5GHz (dB)\":0.15,\"Insertion Loss @ 5GHz (dB)\":0.36,\"(824MHz - 890MHz) 2nd Harmonics @ 20dBm level\":null,\"(824MHz - 890MHz) 3rd Harmonics @ 20dBm level\":null,\"(2.4GHz - 2.484GHz) 2nd Harmonics @ 20dBm level\":null,\"(2.4GHz - 2.484GHz) 3rd Harmonics @ 20dBm level\":null,\"(5GHz - 5.825GHz) 2nd Harmonics @ 20dBm level\":null,\"(5GHz - 5.825GHz) 3rd Harmonics @ 20dBm level\":null,\"Clamp Voltage @Test Condition1\":null,\"Test Condition 1\":null,\"Clamp Voltage @Test Condition2\":null,\"Test Condition 2\":null,\"V-Clamp @8u\\\\/20u Ipp (V)\":7.0,\"MP (MM\\\\/YY)\":\"MP\",\"ES (MM\\\\/YY)\":null,\"Green\":1,\"Halogen Free\":1,\"Status\":\"Fail\",\"Score\":0.0,\"Rank\":null},{\"id\":114,\"Category\":3,\"Package Size\":\"0201\",\"Application\":\"RF\",\"Manufacturer\":\"Toshiba\",\"MPN\":\"DF2B7M3SL\",\"Config\":\"TVS Diode\",\"Design Topology\":\"No Snapback\",\"Polarity\":\"Bi-Directional\",\"Channel Number\":1,\"Pins Count\":2,\"Supplier PKG type\":\"SL2\",\"JEDEC Standard PKG Type\":\"SOD-962\",\"Peak Pulse Power (W)\":50.0,\"V-ESD (Air) (KV)\":15.0,\"V-ESD (Contact) (KV)\":12.0,\"V - rwm Min (V)\":null,\"V - rwm Max (V)\":5.5,\"V-br (V-Trig) - Min (V)\":6.0,\"V-br (V-Trig) - Type (V)\":null,\"V-br (V-Trig) - Max (V)\":11.0,\"V - Holding Min (V)\":null,\"I - Holding Min (mA)\":null,\"R-Dyn (Forward) (Ohm)\":0.7,\"R-Dyn (Reverse) (Ohm)\":0.7,\"C-J Max (pF)\":0.2,\"C-J Delta Max (%)\":null,\"L-io Max (nH)\":null,\"Turn On Time Max (ns)\":null,\"Ipp (8\\\\/20u) (A)\":2.5,\"I - Leakage max (uA)\":0.5,\"Peak @8KV Contact (Reverse)\":170.0,\"Peak @8KV Contact (Forward)\":170.0,\"TLP Clamp Voltage @4A (Reverse)\":15.0,\"TLP Clamp Voltage @8A (Reverse)\":18.0,\"TLP Clamp Voltage @16A (Reverse)\":24.0,\"TLP Clamp Voltage @30A (Reverse)\":null,\"TLP Clamp Voltage @4A (Forward)\":15.0,\"TLP Clamp Voltage @8A (Forward)\":18.0,\"TLP Clamp Voltage @16A (Forward)\":24.0,\"TLP Clamp Voltage @30A (Forward)\":null,\"Insertion Loss @ 1GHz (dB)\":0.03,\"Insertion Loss @ 2.5GHz (dB)\":0.04,\"Insertion Loss @ 5GHz (dB)\":0.11,\"(824MHz - 890MHz) 2nd Harmonics @ 20dBm level\":77.0,\"(824MHz - 890MHz) 3rd Harmonics @ 20dBm level\":53.0,\"(2.4GHz - 2.484GHz) 2nd Harmonics @ 20dBm level\":77.0,\"(2.4GHz - 2.484GHz) 3rd Harmonics @ 20dBm level\":52.0,\"(5GHz - 5.825GHz) 2nd Harmonics @ 20dBm level\":76.0,\"(5GHz - 5.825GHz) 3rd Harmonics @ 20dBm level\":52.0,\"Clamp Voltage @Test Condition1\":null,\"Test Condition 1\":null,\"Clamp Voltage @Test Condition2\":null,\"Test Condition 2\":null,\"V-Clamp @8u\\\\/20u Ipp (V)\":15.5,\"MP (MM\\\\/YY)\":\"MP\",\"ES (MM\\\\/YY)\":null,\"Green\":1,\"Halogen Free\":1,\"Status\":\"Fail\",\"Score\":0.0,\"Rank\":null}]',\n",
       "   '[{\"id\":138,\"Category\":14,\"Package Size\":\"0402\",\"Application\":\"RF\",\"Manufacturer\":\"Toshiba\",\"MPN\":\"DF2B6M4CT\",\"Config\":\"TVS Diode\",\"Design Topology\":\"Shallow Snapback\",\"Polarity\":\"Bi-Directional\",\"Channel Number\":1,\"Pins Count\":2,\"Supplier PKG type\":\"CST2\",\"JEDEC Standard PKG Type\":\"SOD-882\",\"Peak Pulse Power (W)\":30.0,\"V-ESD (Air) (KV)\":20.0,\"V-ESD (Contact) (KV)\":20.0,\"V - rwm Max (V)\":5.5,\"V-br (V-Trig) - Min (V)\":5.6,\"V-br (V-Trig) - Type (V)\":6.2,\"V-br (V-Trig) - Max (V)\":8.0,\"R-Dyn (Forward) (Ohm)\":0.5,\"R-Dyn (Reverse) (Ohm)\":0.5,\"C-J Max (pF)\":0.3,\"C-J Delta Max (%)\":null,\"L-io Max (nH)\":null,\"Turn On Time Max (ns)\":1.7,\"Ipp (8\\\\/20u) (A)\":2.0,\"I - Leakage max (uA)\":0.1,\"Peak @8KV Contact (Reverse)\":104.0,\"Peak @8KV Contact (Forward)\":100.0,\"TLP Clamp Voltage @4A (Reverse)\":11.0,\"TLP Clamp Voltage @8A (Reverse)\":13.0,\"TLP Clamp Voltage @16A (Reverse)\":18.0,\"TLP Clamp Voltage @30A (Reverse)\":25.0,\"TLP Clamp Voltage @4A (Forward)\":11.0,\"TLP Clamp Voltage @8A (Forward)\":13.0,\"TLP Clamp Voltage @16A (Forward)\":18.0,\"TLP Clamp Voltage @30A (Forward)\":25.0,\"Insertion Loss @ 1GHz (dB)\":0.05,\"Insertion Loss @ 2.5GHz (dB)\":0.11,\"Insertion Loss @ 5GHz (dB)\":0.23,\"(824MHz - 890MHz) 2nd Harmonics @ 20dBm level\":68.0,\"(824MHz - 890MHz) 3rd Harmonics @ 20dBm level\":48.0,\"(2.4GHz - 2.484GHz) 2nd Harmonics @ 20dBm level\":63.0,\"(2.4GHz - 2.484GHz) 3rd Harmonics @ 20dBm level\":47.0,\"(5GHz - 5.825GHz) 2nd Harmonics @ 20dBm level\":63.0,\"(5GHz - 5.825GHz) 3rd Harmonics @ 20dBm level\":43.0,\"Clamp Voltage @Test Condition1\":null,\"Test Condition 1\":null,\"Clamp Voltage @Test Condition2\":null,\"Test Condition 2\":null,\"V-Clamp @8u\\\\/20u Ipp (V)\":10.0,\"MP (MM\\\\/YY)\":\"MP\",\"ES (MM\\\\/YY)\":null,\"Green\":1,\"Halogen Free\":1,\"Remarks\":null,\"Status\":\"Pass\",\"Score\":113.1,\"Rank\":1.0},{\"id\":11,\"Category\":14,\"Package Size\":\"0402\",\"Application\":null,\"Manufacturer\":\"AOSMD\",\"MPN\":\"AOZ8831ADI-05\",\"Config\":null,\"Design Topology\":\"No Snapback\",\"Polarity\":\"Bi-Directional\",\"Channel Number\":1,\"Pins Count\":2,\"Supplier PKG type\":\"DFN1.0x0.6\",\"JEDEC Standard PKG Type\":\"X2FR-PSON1-2\\\\/1x0.6-0.65\",\"Peak Pulse Power (W)\":40.0,\"V-ESD (Air) (KV)\":25.0,\"V-ESD (Contact) (KV)\":25.0,\"V - rwm Max (V)\":5.0,\"V-br (V-Trig) - Min (V)\":6.0,\"V-br (V-Trig) - Type (V)\":8.0,\"V-br (V-Trig) - Max (V)\":9.0,\"R-Dyn (Forward) (Ohm)\":0.6,\"R-Dyn (Reverse) (Ohm)\":0.6,\"C-J Max (pF)\":0.45,\"C-J Delta Max (%)\":15.0,\"L-io Max (nH)\":1.0,\"Turn On Time Max (ns)\":1.95,\"Ipp (8\\\\/20u) (A)\":2.5,\"I - Leakage max (uA)\":0.05,\"Peak @8KV Contact (Reverse)\":80.0,\"Peak @8KV Contact (Forward)\":80.0,\"TLP Clamp Voltage @4A (Reverse)\":14.0,\"TLP Clamp Voltage @8A (Reverse)\":17.0,\"TLP Clamp Voltage @16A (Reverse)\":23.0,\"TLP Clamp Voltage @30A (Reverse)\":34.0,\"TLP Clamp Voltage @4A (Forward)\":14.0,\"TLP Clamp Voltage @8A (Forward)\":17.0,\"TLP Clamp Voltage @16A (Forward)\":23.0,\"TLP Clamp Voltage @30A (Forward)\":34.0,\"Insertion Loss @ 1GHz (dB)\":null,\"Insertion Loss @ 2.5GHz (dB)\":null,\"Insertion Loss @ 5GHz (dB)\":null,\"(824MHz - 890MHz) 2nd Harmonics @ 20dBm level\":null,\"(824MHz - 890MHz) 3rd Harmonics @ 20dBm level\":null,\"(2.4GHz - 2.484GHz) 2nd Harmonics @ 20dBm level\":null,\"(2.4GHz - 2.484GHz) 3rd Harmonics @ 20dBm level\":null,\"(5GHz - 5.825GHz) 2nd Harmonics @ 20dBm level\":null,\"(5GHz - 5.825GHz) 3rd Harmonics @ 20dBm level\":null,\"Clamp Voltage @Test Condition1\":4.0,\"Test Condition 1\":\"IPP=4A\",\"Clamp Voltage @Test Condition2\":6.0,\"Test Condition 2\":\"IPP=6A\",\"V-Clamp @8u\\\\/20u Ipp (V)\":null,\"MP (MM\\\\/YY)\":\"08\\\\/2014\",\"ES (MM\\\\/YY)\":null,\"Green\":1,\"Halogen Free\":1,\"Remarks\":null,\"Status\":\"Pass\",\"Score\":79.15,\"Rank\":2.0},{\"id\":68,\"Category\":14,\"Package Size\":\"0402\",\"Application\":\"RF\",\"Manufacturer\":\"OnSemi\",\"MPN\":\"ESD7551\",\"Config\":null,\"Design Topology\":\"Zener\",\"Polarity\":\"Bi-Directional\",\"Channel Number\":1,\"Pins Count\":2,\"Supplier PKG type\":\"X2DFN2\",\"JEDEC Standard PKG Type\":null,\"Peak Pulse Power (W)\":null,\"V-ESD (Air) (KV)\":25.0,\"V-ESD (Contact) (KV)\":25.0,\"V - rwm Max (V)\":3.3,\"V-br (V-Trig) - Min (V)\":5.0,\"V-br (V-Trig) - Type (V)\":6.0,\"V-br (V-Trig) - Max (V)\":7.5,\"R-Dyn (Forward) (Ohm)\":0.58,\"R-Dyn (Reverse) (Ohm)\":0.58,\"C-J Max (pF)\":0.35,\"C-J Delta Max (%)\":null,\"L-io Max (nH)\":null,\"Turn On Time Max (ns)\":null,\"Ipp (8\\\\/20u) (A)\":3.0,\"I - Leakage max (uA)\":0.05,\"Peak @8KV Contact (Reverse)\":116.16,\"Peak @8KV Contact (Forward)\":169.68,\"TLP Clamp Voltage @4A (Reverse)\":11.0,\"TLP Clamp Voltage @8A (Reverse)\":13.8,\"TLP Clamp Voltage @16A (Reverse)\":18.0,\"TLP Clamp Voltage @30A (Reverse)\":null,\"TLP Clamp Voltage @4A (Forward)\":11.0,\"TLP Clamp Voltage @8A (Forward)\":13.5,\"TLP Clamp Voltage @16A (Forward)\":18.0,\"TLP Clamp Voltage @30A (Forward)\":null,\"Insertion Loss @ 1GHz (dB)\":0.024,\"Insertion Loss @ 2.5GHz (dB)\":0.066,\"Insertion Loss @ 5GHz (dB)\":0.156,\"(824MHz - 890MHz) 2nd Harmonics @ 20dBm level\":null,\"(824MHz - 890MHz) 3rd Harmonics @ 20dBm level\":null,\"(2.4GHz - 2.484GHz) 2nd Harmonics @ 20dBm level\":null,\"(2.4GHz - 2.484GHz) 3rd Harmonics @ 20dBm level\":null,\"(5GHz - 5.825GHz) 2nd Harmonics @ 20dBm level\":null,\"(5GHz - 5.825GHz) 3rd Harmonics @ 20dBm level\":null,\"Clamp Voltage @Test Condition1\":null,\"Test Condition 1\":null,\"Clamp Voltage @Test Condition2\":null,\"Test Condition 2\":null,\"V-Clamp @8u\\\\/20u Ipp (V)\":11.4,\"MP (MM\\\\/YY)\":\"MP\",\"ES (MM\\\\/YY)\":\"Now\",\"Green\":1,\"Halogen Free\":1,\"Remarks\":\"11.4 V @ 3 A\",\"Status\":\"Pass\",\"Score\":74.5,\"Rank\":3.0},{\"id\":69,\"Category\":14,\"Package Size\":\"0402\",\"Application\":\"RF\",\"Manufacturer\":\"OnSemi\",\"MPN\":\"ESD7571\",\"Config\":null,\"Design Topology\":\"Zener\",\"Polarity\":\"Bi-Directional\",\"Channel Number\":1,\"Pins Count\":2,\"Supplier PKG type\":\"X2DFN2\",\"JEDEC Standard PKG Type\":null,\"Peak Pulse Power (W)\":null,\"V-ESD (Air) (KV)\":20.0,\"V-ESD (Contact) (KV)\":20.0,\"V - rwm Max (V)\":5.3,\"V-br (V-Trig) - Min (V)\":7.0,\"V-br (V-Trig) - Type (V)\":null,\"V-br (V-Trig) - Max (V)\":12.0,\"R-Dyn (Forward) (Ohm)\":0.8,\"R-Dyn (Reverse) (Ohm)\":0.8,\"C-J Max (pF)\":0.35,\"C-J Delta Max (%)\":null,\"L-io Max (nH)\":null,\"Turn On Time Max (ns)\":null,\"Ipp (8\\\\/20u) (A)\":2.2,\"I - Leakage max (uA)\":0.05,\"Peak @8KV Contact (Reverse)\":116.0,\"Peak @8KV Contact (Forward)\":108.0,\"TLP Clamp Voltage @4A (Reverse)\":15.5,\"TLP Clamp Voltage @8A (Reverse)\":18.2,\"TLP Clamp Voltage @16A (Reverse)\":25.0,\"TLP Clamp Voltage @30A (Reverse)\":null,\"TLP Clamp Voltage @4A (Forward)\":15.0,\"TLP Clamp Voltage @8A (Forward)\":18.2,\"TLP Clamp Voltage @16A (Forward)\":25.0,\"TLP Clamp Voltage @30A (Forward)\":null,\"Insertion Loss @ 1GHz (dB)\":0.05,\"Insertion Loss @ 2.5GHz (dB)\":0.1,\"Insertion Loss @ 5GHz (dB)\":0.35,\"(824MHz - 890MHz) 2nd Harmonics @ 20dBm level\":null,\"(824MHz - 890MHz) 3rd Harmonics @ 20dBm level\":null,\"(2.4GHz - 2.484GHz) 2nd Harmonics @ 20dBm level\":null,\"(2.4GHz - 2.484GHz) 3rd Harmonics @ 20dBm level\":null,\"(5GHz - 5.825GHz) 2nd Harmonics @ 20dBm level\":null,\"(5GHz - 5.825GHz) 3rd Harmonics @ 20dBm level\":null,\"Clamp Voltage @Test Condition1\":null,\"Test Condition 1\":null,\"Clamp Voltage @Test Condition2\":null,\"Test Condition 2\":null,\"V-Clamp @8u\\\\/20u Ipp (V)\":null,\"MP (MM\\\\/YY)\":\"MP\",\"ES (MM\\\\/YY)\":\"Now\",\"Green\":1,\"Halogen Free\":1,\"Remarks\":null,\"Status\":\"Pass\",\"Score\":50.0,\"Rank\":4.0},{\"id\":145,\"Category\":14,\"Package Size\":\"0402\",\"Application\":\"RF\",\"Manufacturer\":\"WAYON\",\"MPN\":\"WE05DRF-B\",\"Config\":null,\"Design Topology\":\"ZENER\",\"Polarity\":\"Bi-Directional\",\"Channel Number\":1,\"Pins Count\":2,\"Supplier PKG type\":\"Plastic\",\"JEDEC Standard PKG Type\":\"DFN1006-2L\",\"Peak Pulse Power (W)\":80.0,\"V-ESD (Air) (KV)\":20.0,\"V-ESD (Contact) (KV)\":20.0,\"V - rwm Max (V)\":5.0,\"V-br (V-Trig) - Min (V)\":6.2,\"V-br (V-Trig) - Type (V)\":null,\"V-br (V-Trig) - Max (V)\":9.0,\"R-Dyn (Forward) (Ohm)\":0.95,\"R-Dyn (Reverse) (Ohm)\":0.95,\"C-J Max (pF)\":0.3,\"C-J Delta Max (%)\":0.3,\"L-io Max (nH)\":null,\"Turn On Time Max (ns)\":1.5,\"Ipp (8\\\\/20u) (A)\":4.0,\"I - Leakage max (uA)\":0.1,\"Peak @8KV Contact (Reverse)\":129.0,\"Peak @8KV Contact (Forward)\":129.0,\"TLP Clamp Voltage @4A (Reverse)\":16.0,\"TLP Clamp Voltage @8A (Reverse)\":21.7,\"TLP Clamp Voltage @16A (Reverse)\":33.1,\"TLP Clamp Voltage @30A (Reverse)\":56.0,\"TLP Clamp Voltage @4A (Forward)\":16.0,\"TLP Clamp Voltage @8A (Forward)\":21.7,\"TLP Clamp Voltage @16A (Forward)\":33.1,\"TLP Clamp Voltage @30A (Forward)\":56.0,\"Insertion Loss @ 1GHz (dB)\":0.025,\"Insertion Loss @ 2.5GHz (dB)\":0.0135,\"Insertion Loss @ 5GHz (dB)\":0.404,\"(824MHz - 890MHz) 2nd Harmonics @ 20dBm level\":null,\"(824MHz - 890MHz) 3rd Harmonics @ 20dBm level\":null,\"(2.4GHz - 2.484GHz) 2nd Harmonics @ 20dBm level\":null,\"(2.4GHz - 2.484GHz) 3rd Harmonics @ 20dBm level\":null,\"(5GHz - 5.825GHz) 2nd Harmonics @ 20dBm level\":null,\"(5GHz - 5.825GHz) 3rd Harmonics @ 20dBm level\":null,\"Clamp Voltage @Test Condition1\":null,\"Test Condition 1\":null,\"Clamp Voltage @Test Condition2\":null,\"Test Condition 2\":null,\"V-Clamp @8u\\\\/20u Ipp (V)\":20.0,\"MP (MM\\\\/YY)\":\"MP\",\"ES (MM\\\\/YY)\":null,\"Green\":1,\"Halogen Free\":1,\"Remarks\":null,\"Status\":\"Pass\",\"Score\":47.5,\"Rank\":5.0}]']},\n",
       " 'output_data': {'ref_id': ['sample1', 'sample2'],\n",
       "  'cat_id': [3, 14],\n",
       "  'results': ['[{\"Category\":3,\"Manufacturer\":\"Nexperia\",\"MPN\":\"PESD3V3Z1BSF\",\"Status\":\"Pass\",\"Rank\":1.0},{\"Category\":3,\"Manufacturer\":\"Semtech\",\"MPN\":\"RClamp5031ZA\",\"Status\":\"Pass\",\"Rank\":2.0},{\"Category\":3,\"Manufacturer\":\"Nexperia\",\"MPN\":\"PESD7V0C1BSF\",\"Status\":\"Pass\",\"Rank\":3.0},{\"Category\":3,\"Manufacturer\":\"Nexperia\",\"MPN\":\"PESD5V0C1BSF\",\"Status\":\"Pass\",\"Rank\":3.0},{\"Category\":3,\"Manufacturer\":\"Infineon\",\"MPN\":\"ESD134-B1-W0201\",\"Status\":\"Pass\",\"Rank\":4.0},{\"Category\":3,\"Manufacturer\":\"Toshiba\",\"MPN\":\"DF2B6M5SL\",\"Status\":\"Pass\",\"Rank\":5.0},{\"Category\":3,\"Manufacturer\":\"Toshiba\",\"MPN\":\"DF2B6M4SL\",\"Status\":\"Pass\",\"Rank\":6.0},{\"Category\":3,\"Manufacturer\":\"Infineon\",\"MPN\":\"ESD131-B1-W0201\",\"Status\":\"Pass\",\"Rank\":7.0},{\"Category\":3,\"Manufacturer\":\"Toshiba\",\"MPN\":\"DF2B6M4ASL\",\"Status\":\"Pass\",\"Rank\":8.0},{\"Category\":3,\"Manufacturer\":\"Infineon\",\"MPN\":\"ESD108-B1-CSP0201\",\"Status\":\"Pass\",\"Rank\":9.0},{\"Category\":3,\"Manufacturer\":\"WAYON\",\"MPN\":\"WE05DGCS-B\",\"Status\":\"Pass\",\"Rank\":10.0},{\"Category\":3,\"Manufacturer\":\"Infineon\",\"MPN\":\"ESD106-B1-W0201\",\"Status\":\"Fail\",\"Rank\":null},{\"Category\":3,\"Manufacturer\":\"OnSemi\",\"MPN\":\"ESD8011\",\"Status\":\"Fail\",\"Rank\":null},{\"Category\":3,\"Manufacturer\":\"Semtech\",\"MPN\":\"RClamp3371ZC\",\"Status\":\"Fail\",\"Rank\":null},{\"Category\":3,\"Manufacturer\":\"Toshiba\",\"MPN\":\"DF2B7M3SL\",\"Status\":\"Fail\",\"Rank\":null}]',\n",
       "   '[{\"Category\":14,\"Manufacturer\":\"Toshiba\",\"MPN\":\"DF2B6M4CT\",\"Status\":\"Pass\",\"Rank\":1.0},{\"Category\":14,\"Manufacturer\":\"AOSMD\",\"MPN\":\"AOZ8831ADI-05\",\"Status\":\"Pass\",\"Rank\":2.0},{\"Category\":14,\"Manufacturer\":\"OnSemi\",\"MPN\":\"ESD7551\",\"Status\":\"Pass\",\"Rank\":3.0},{\"Category\":14,\"Manufacturer\":\"OnSemi\",\"MPN\":\"ESD7571\",\"Status\":\"Pass\",\"Rank\":4.0},{\"Category\":14,\"Manufacturer\":\"WAYON\",\"MPN\":\"WE05DRF-B\",\"Status\":\"Pass\",\"Rank\":5.0}]']}}"
      ]
     },
     "execution_count": 17,
     "metadata": {},
     "output_type": "execute_result"
    }
   ],
   "source": [
    "calculate({'ref_id': ['sample1', 'sample2'], 'categories': [3, 14]})"
   ]
  },
  {
   "cell_type": "code",
   "execution_count": null,
   "metadata": {},
   "outputs": [],
   "source": []
  },
  {
   "cell_type": "code",
   "execution_count": null,
   "metadata": {},
   "outputs": [],
   "source": []
  },
  {
   "cell_type": "code",
   "execution_count": null,
   "metadata": {},
   "outputs": [],
   "source": []
  },
  {
   "cell_type": "code",
   "execution_count": null,
   "metadata": {},
   "outputs": [],
   "source": []
  },
  {
   "cell_type": "code",
   "execution_count": null,
   "metadata": {},
   "outputs": [],
   "source": [
    "   "
   ]
  },
  {
   "cell_type": "code",
   "execution_count": null,
   "metadata": {},
   "outputs": [],
   "source": []
  },
  {
   "cell_type": "code",
   "execution_count": null,
   "metadata": {},
   "outputs": [],
   "source": []
  },
  {
   "cell_type": "code",
   "execution_count": null,
   "metadata": {},
   "outputs": [],
   "source": []
  },
  {
   "cell_type": "code",
   "execution_count": null,
   "metadata": {},
   "outputs": [],
   "source": []
  },
  {
   "cell_type": "code",
   "execution_count": null,
   "metadata": {},
   "outputs": [],
   "source": []
  },
  {
   "cell_type": "code",
   "execution_count": null,
   "metadata": {},
   "outputs": [],
   "source": []
  },
  {
   "cell_type": "code",
   "execution_count": null,
   "metadata": {},
   "outputs": [],
   "source": []
  },
  {
   "cell_type": "code",
   "execution_count": null,
   "metadata": {},
   "outputs": [],
   "source": [
    "\n"
   ]
  },
  {
   "cell_type": "code",
   "execution_count": null,
   "metadata": {},
   "outputs": [],
   "source": []
  }
 ],
 "metadata": {
  "kernelspec": {
   "display_name": "Python 3",
   "language": "python",
   "name": "python3"
  },
  "language_info": {
   "codemirror_mode": {
    "name": "ipython",
    "version": 3
   },
   "file_extension": ".py",
   "mimetype": "text/x-python",
   "name": "python",
   "nbconvert_exporter": "python",
   "pygments_lexer": "ipython3",
   "version": "3.7.7"
  }
 },
 "nbformat": 4,
 "nbformat_minor": 4
}
